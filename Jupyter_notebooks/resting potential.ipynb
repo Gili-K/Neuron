{
 "cells": [
  {
   "cell_type": "code",
   "execution_count": 1,
   "metadata": {},
   "outputs": [
    {
     "name": "stdout",
     "output_type": "stream",
     "text": [
      "845.34678 \n",
      "845.34678 \n",
      "845.34678 \n"
     ]
    }
   ],
   "source": [
    "import os\n",
    "import sys\n",
    "import numpy as np\n",
    "import neuron\n",
    "from neuron import h\n",
    "from neuron.units import ms, mV\n",
    "from neuron import gui\n",
    "from matplotlib import pyplot as plt\n",
    "import csv\n",
    "from math import exp, log\n",
    "import scipy\n",
    "\n",
    "h.load_file(\"import3d.hoc\")\n",
    "morphology_file = \"morphologies/cell1.asc\"\n",
    "h.load_file(\"L5PCbiophysWhat.hoc\")\n",
    "h.load_file(\"L5PCtemplate_2.hoc\")\n",
    "L5PC = h.L5PCtemplate(morphology_file)\n",
    "h.celsius = 37"
   ]
  },
  {
   "cell_type": "code",
   "execution_count": 2,
   "metadata": {},
   "outputs": [
    {
     "data": {
      "image/png": "[encoded data removed]",
      "text/plain": [
       "<Figure size 576x432 with 1 Axes>"
      ]
     },
     "metadata": {
      "needs_background": "light"
     },
     "output_type": "display_data"
    },
    {
     "name": "stdout",
     "output_type": "stream",
     "text": [
      "[-1.0900258344881934e-06, -5.793521365238066e-07, -2.862941136770641e-07, -1.4092664389034505e-07, -7.39135752184805e-08, -4.197836646792664e-08, -2.526782676070534e-08, -1.579164558171857e-08, -1.017544996949059e-08, -6.781259411633286e-09, -4.713510649410914e-09, -3.4494792956579223e-09, -2.6754807780754114e-09]\n"
     ]
    }
   ],
   "source": [
    "all_secs = list(L5PC.all)\n",
    "x = 0\n",
    "lbl = ['-30','-20','-10','0','10','20','30']\n",
    "multHVA = 2\n",
    "shift = 30\n",
    "multList = []\n",
    "restList = []\n",
    "# for sec in all_secs:\n",
    "#     for seg in sec:\n",
    "#         #try: seg.Ih.vshift = seg.Ih.vshift -40\n",
    "#         try: seg.Ca_HVA.gCa_HVAbar = seg.Ca_HVA.gCa_HVAbar*multHVA\n",
    "#         except AttributeError: continue \n",
    "fig, ax = plt.subplots(figsize=(8, 6))\n",
    "for i in range (0,13):\n",
    "    for sec in all_secs:\n",
    "        for seg in sec:\n",
    "            try: seg.Ih.vshift = seg.Ih.vshift + shift\n",
    "#             try: seg.Ca_HVA.gCa_HVAbar = seg.Ca_HVA.gCa_HVAbar*multHVA\n",
    "            except AttributeError: continue \n",
    "    t = h.Vector().record(h._ref_t)\n",
    "    som_v = h.Vector().record(L5PC.soma[0](0.5)._ref_v)\n",
    "#     prox_v = h.Vector().record(L5PC.soma[20](0.9)._ref_v)\n",
    "    nexus_v = h.Vector().record(L5PC.apic[36](0.9)._ref_v)\n",
    "    iHCN = h.Vector().record(L5PC.soma[0](0.5).Ih._ref_ihcn)\n",
    "    iLVA = h.Vector().record(L5PC.apic[36](0.9).Ca_LVAst._ref_ica)\n",
    "    v_rest = -80.28\n",
    "    h.finitialize(v_rest*mV)\n",
    "    h.continuerun(1000*ms)\n",
    "    meanV = np.mean(list(iLVA))\n",
    "    multList.append(shift)\n",
    "    restList.append(meanV)\n",
    "#     restList.append(float(\"{:.2f}\".format(meanV)))\n",
    "    #ax.scatter(i,meanV, i, label = lbl[x])\n",
    "    #ax.set(xlim=(300,600))\n",
    "    #ax.legend()\n",
    "    x += 1\n",
    "    for sec in all_secs:\n",
    "        for seg in sec:\n",
    "            try: seg.Ih.vshift = seg.Ih.vshift - shift\n",
    "#             try: seg.Ca_HVA.gCa_HVAbar = seg.Ca_HVA.gCa_HVAbar/multHVA\n",
    "            except AttributeError: continue \n",
    "    multHVA = multHVA - 0.1\n",
    "    shift = shift - 5\n",
    "ax.plot(multList,restList,'b',linewidth=2.5)\n",
    "ax.set(ylabel='Resting potential - Soma', xlabel='HVA_CA conductance multiplyer')\n",
    "ax.set_title('Resting potential as function of HVA conductance', fontsize=16)\n",
    "plt.show()\n",
    "print(restList)"
   ]
  }
 ],
 "metadata": {
  "kernelspec": {
   "display_name": "Python 3",
   "language": "python",
   "name": "python3"
  },
  "language_info": {
   "codemirror_mode": {
    "name": "ipython",
    "version": 3
   },
   "file_extension": ".py",
   "mimetype": "text/x-python",
   "name": "python",
   "nbconvert_exporter": "python",
   "pygments_lexer": "ipython3",
   "version": "3.8.5"
  }
 },
 "nbformat": 4,
 "nbformat_minor": 4
}
