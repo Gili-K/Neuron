{
 "cells": [
  {
   "cell_type": "code",
   "execution_count": 1,
   "metadata": {},
   "outputs": [
    {
     "name": "stdout",
     "output_type": "stream",
     "text": [
      "845.34678 \n",
      "845.34678 \n",
      "845.34678 \n"
     ]
    }
   ],
   "source": [
    "import os\n",
    "import sys\n",
    "import numpy as np\n",
    "import neuron\n",
    "from neuron import h\n",
    "from neuron.units import ms, mV\n",
    "from neuron import gui\n",
    "from matplotlib import pyplot as plt\n",
    "import csv\n",
    "from math import exp, log\n",
    "import scipy\n",
    "\n",
    "h.load_file(\"import3d.hoc\")\n",
    "morphology_file = \"morphologies/cell1.asc\"\n",
    "h.load_file(\"L5PCbiophysWhat.hoc\")\n",
    "h.load_file(\"L5PCtemplate_2.hoc\")\n",
    "L5PC = h.L5PCtemplate(morphology_file)\n",
    "h.celsius = 37"
   ]
  },
  {
   "cell_type": "code",
   "execution_count": 2,
   "metadata": {},
   "outputs": [
    {
     "name": "stdout",
     "output_type": "stream",
     "text": [
      "1 1.2500000000000004\n",
      "2 1.2500000000000004\n",
      "3 1.2500000000000004\n",
      "4 1.2500000000000004\n",
      "5 1.2500000000000004\n",
      "6 1.2600000000000005\n",
      "7 1.2600000000000005\n",
      "8 1.2600000000000005\n",
      "9 1.2600000000000005\n",
      "10 1.2600000000000005\n",
      "11 1.2600000000000005\n",
      "12 1.2600000000000005\n",
      "13 1.2600000000000005\n",
      "14 1.2600000000000005\n",
      "15 1.2600000000000005\n",
      "16 1.2600000000000005\n",
      "17 1.2600000000000005\n",
      "18 1.2600000000000005\n",
      "19 1.2600000000000005\n"
     ]
    },
    {
     "data": {
      "image/png": "[encoded data removed]",
      "text/plain": [
       "<Figure size 576x432 with 1 Axes>"
      ]
     },
     "metadata": {
      "needs_background": "light"
     },
     "output_type": "display_data"
    }
   ],
   "source": [
    "fig, ax = plt.subplots(figsize=(8, 6))\n",
    "multHVA = 2\n",
    "threshList = []\n",
    "multList = []\n",
    "shift = -30\n",
    "g = 1\n",
    "dendcur = 0.64\n",
    "for i in range(0, 1):\n",
    "    all_secs = list(L5PC.all)\n",
    "    for sec in all_secs:\n",
    "        for seg in sec:\n",
    "            try: seg.Ih.vshift = seg.Ih.vshift + shift\n",
    "#             try: seg.Ca_HVA.gCa_HVAbar = seg.Ca_HVA.gCa_HVAbar*multHVA\n",
    "            except AttributeError: continue\n",
    "    for i in range(0, 19):\n",
    "        for sec in all_secs:\n",
    "            for seg in sec:\n",
    "#                 try: seg.Ih.vshift = seg.Ih.vshift + shift\n",
    "                try: seg.Ca_HVA.gCa_HVAbar = seg.Ca_HVA.gCa_HVAbar*multHVA\n",
    "                except AttributeError: continue            \n",
    "#         dendcur = 0.81\n",
    "        NoCaSpike = True\n",
    "        while NoCaSpike:\n",
    "            t = h.Vector().record(h._ref_t)\n",
    "            som_v = h.Vector().record(L5PC.soma[0](0.5)._ref_v)\n",
    "            distal_v = h.Vector().record(L5PC.apic[36](0.9)._ref_v)\n",
    "            proximal_v = h.Vector().record(L5PC.apic[20](0.5)._ref_v)\n",
    "            distal_ca = h.Vector().record(L5PC.apic[36](0.9).Ca_HVA._ref_ica)\n",
    "\n",
    "            current_epsp = h.epsp(L5PC.apic[36](0.9))\n",
    "            current_epsp.tau0 = 0.6\n",
    "            current_epsp.tau1 = 7\n",
    "            current_epsp.imax = dendcur\n",
    "            current_epsp.onset = 205\n",
    "\n",
    "            current_som = h.IClamp(L5PC.soma[0](0.5))\n",
    "            current_som.delay = 200\n",
    "            current_som.dur = 5 \n",
    "            current_som.amp = 1.9\n",
    "\n",
    "            soma_cur = h.Vector().record(current_som._ref_i)\n",
    "            cur_i = h.Vector().record(current_epsp._ref_i)\n",
    "            prox_v = h.Vector().record(L5PC.apic[20](0.9)._ref_v)\n",
    "            v_rest = -80.28\n",
    "            h.finitialize(v_rest*mV)\n",
    "            h.continuerun(250*ms)\n",
    "\n",
    "            mincahva = min(distal_ca)\n",
    "#             maxsoma = max(som_v)\n",
    "    #         maxP = max(prox_v)\n",
    "    #         print(shift, maxP)\n",
    "    #         shift = shift - 5\n",
    "\n",
    "            if mincahva < - 0.01:\n",
    "#             if maxsoma > 10:\n",
    "                threshList.append(dendcur)\n",
    "                multList.append(multHVA)\n",
    "                print(g, dendcur)\n",
    "                for sec in all_secs:\n",
    "                    for seg in sec:\n",
    "#                         try: seg.Ih.vshift = seg.Ih.vshift - shift\n",
    "                        try: seg.Ca_HVA.gCa_HVAbar = seg.Ca_HVA.gCa_HVAbar/multHVA\n",
    "                        except AttributeError: continue\n",
    "                multHVA = multHVA-0.1\n",
    "                NoCaSpike = False\n",
    "#                 shift = shift - 5\n",
    "                g+=1\n",
    "\n",
    "            else:\n",
    "                dendcur = dendcur + 0.01\n",
    "    for sec in all_secs:\n",
    "        for seg in sec:\n",
    "            try: seg.Ih.vshift = seg.Ih.vshift / shift\n",
    "#             try: seg.Ca_HVA.gCa_HVAbar = seg.Ca_HVA.gCa_HVAbar/multHVA\n",
    "            except AttributeError: continue                  \n",
    "            \n",
    "# ax.plot(multList, threshList,'k', linewidth=2.5)\n",
    "# ax.set(ylabel='Threshohld to evoke Ca spike - input to nexus', xlabel='HVA_CA conductance multiplyer', ylim=(0,0.35))\n",
    "# ax.set_title('Input to soma and nexus', fontsize=16)"
   ]
  }
 ],
 "metadata": {
  "kernelspec": {
   "display_name": "Python 3",
   "language": "python",
   "name": "python3"
  },
  "language_info": {
   "codemirror_mode": {
    "name": "ipython",
    "version": 3
   },
   "file_extension": ".py",
   "mimetype": "text/x-python",
   "name": "python",
   "nbconvert_exporter": "python",
   "pygments_lexer": "ipython3",
   "version": "3.8.5"
  }
 },
 "nbformat": 4,
 "nbformat_minor": 4
}
