{
 "cells": [
  {
   "cell_type": "code",
   "execution_count": 1,
   "metadata": {},
   "outputs": [],
   "source": [
    "import os\n",
    "import sys\n",
    "import numpy as np\n",
    "import neuron\n",
    "from neuron import h\n",
    "from neuron.units import ms, mV\n",
    "from neuron import gui\n",
    "from matplotlib import pyplot as plt\n",
    "import csv\n",
    "from math import exp, log\n",
    "import scipy\n",
    "from collections import Counter"
   ]
  },
  {
   "cell_type": "code",
   "execution_count": 2,
   "metadata": {},
   "outputs": [
    {
     "name": "stdout",
     "output_type": "stream",
     "text": [
      "845.34678 \n",
      "845.34678 \n",
      "845.34678 \n"
     ]
    }
   ],
   "source": [
    "h.load_file(\"import3d.hoc\")\n",
    "morphology_file = \"morphologies/cell1.asc\"\n",
    "h.load_file(\"L5PCbiophys3G.hoc\")\n",
    "h.load_file(\"L5PCtemplate_2.hoc\")\n",
    "L5PC = h.L5PCtemplate(morphology_file)\n",
    "h.celsius = 37\n",
    "v_rest = -78"
   ]
  },
  {
   "cell_type": "code",
   "execution_count": 3,
   "metadata": {},
   "outputs": [
    {
     "ename": "NameError",
     "evalue": "name 'red' is not defined",
     "output_type": "error",
     "traceback": [
      "\u001b[0;31m---------------------------------------------------------------------------\u001b[0m",
      "\u001b[0;31mNameError\u001b[0m                                 Traceback (most recent call last)",
      "\u001b[0;32m<ipython-input-3-8347e88109b7>\u001b[0m in \u001b[0;36m<module>\u001b[0;34m\u001b[0m\n\u001b[1;32m     69\u001b[0m \u001b[0;34m\u001b[0m\u001b[0m\n\u001b[1;32m     70\u001b[0m \u001b[0;34m\u001b[0m\u001b[0m\n\u001b[0;32m---> 71\u001b[0;31m \u001b[0mNa_Flow\u001b[0m\u001b[0;34m(\u001b[0m\u001b[0;34m)\u001b[0m\u001b[0;34m\u001b[0m\u001b[0;34m\u001b[0m\u001b[0m\n\u001b[0m",
      "\u001b[0;32m<ipython-input-3-8347e88109b7>\u001b[0m in \u001b[0;36mNa_Flow\u001b[0;34m()\u001b[0m\n\u001b[1;32m     55\u001b[0m \u001b[0;34m\u001b[0m\u001b[0m\n\u001b[1;32m     56\u001b[0m         \u001b[0;31m#plt.plot(t, som_v, color[x], linewidth=2.3)\u001b[0m\u001b[0;34m\u001b[0m\u001b[0;34m\u001b[0m\u001b[0;34m\u001b[0m\u001b[0m\n\u001b[0;32m---> 57\u001b[0;31m         \u001b[0mplt\u001b[0m\u001b[0;34m.\u001b[0m\u001b[0mplot\u001b[0m\u001b[0;34m(\u001b[0m\u001b[0mt\u001b[0m\u001b[0;34m,\u001b[0m \u001b[0mCa\u001b[0m\u001b[0;34m,\u001b[0m \u001b[0mred\u001b[0m\u001b[0;34m,\u001b[0m \u001b[0mlinewidth\u001b[0m\u001b[0;34m=\u001b[0m\u001b[0;36m1\u001b[0m\u001b[0;34m)\u001b[0m\u001b[0;34m\u001b[0m\u001b[0;34m\u001b[0m\u001b[0m\n\u001b[0m\u001b[1;32m     58\u001b[0m         \u001b[0mplt\u001b[0m\u001b[0;34m.\u001b[0m\u001b[0mplot\u001b[0m\u001b[0;34m(\u001b[0m\u001b[0mt\u001b[0m\u001b[0;34m,\u001b[0m \u001b[0mskv\u001b[0m\u001b[0;34m,\u001b[0m \u001b[0morange\u001b[0m\u001b[0;34m,\u001b[0m \u001b[0mlinewidth\u001b[0m\u001b[0;34m=\u001b[0m\u001b[0;36m1\u001b[0m\u001b[0;34m)\u001b[0m\u001b[0;34m\u001b[0m\u001b[0;34m\u001b[0m\u001b[0m\n\u001b[1;32m     59\u001b[0m         \u001b[0mplt\u001b[0m\u001b[0;34m.\u001b[0m\u001b[0mplot\u001b[0m\u001b[0;34m(\u001b[0m\u001b[0mt\u001b[0m\u001b[0;34m,\u001b[0m \u001b[0mske2\u001b[0m\u001b[0;34m,\u001b[0m \u001b[0myellow\u001b[0m\u001b[0;34m,\u001b[0m \u001b[0mlinewidth\u001b[0m\u001b[0;34m=\u001b[0m\u001b[0;36m1\u001b[0m\u001b[0;34m)\u001b[0m\u001b[0;34m\u001b[0m\u001b[0;34m\u001b[0m\u001b[0m\n",
      "\u001b[0;31mNameError\u001b[0m: name 'red' is not defined"
     ]
    }
   ],
   "source": [
    "def Na_Flow():\n",
    "    \"\"\"figure 1 of Larkum 1999, showing non-linearity\"\"\"\n",
    "    plt.rcParams['figure.figsize'] = [12,6]      \n",
    "\n",
    "    interval = [3]\n",
    "    x = 0\n",
    "    for i in interval:         \n",
    "\n",
    "        t = h.Vector().record(h._ref_t)\n",
    "        som_v = h.Vector().record(L5PC.soma[0](0.5)._ref_v)\n",
    "        nexus_v = h.Vector().record(L5PC.apic[36](0.9)._ref_v)\n",
    "        \n",
    "        Ca = h.Vector().record(L5PC.soma[0](0.5).Ca_HVA._ref_ica)\n",
    "        skv = h.Vector().record(L5PC.soma[0](0.5).SKv3_1._ref_ik)\n",
    "        ske2 = h.Vector().record(L5PC.soma[0](0.5).SK_E2._ref_ik)\n",
    "        ktst = h.Vector().record(L5PC.soma[0](0.5).K_Tst._ref_ik)\n",
    "        kpst = h.Vector().record(L5PC.soma[0](0.5).K_Pst._ref_ik)\n",
    "        nap = h.Vector().record(L5PC.soma[0](0.5).Nap_Et2._ref_ina)\n",
    "        nat = h.Vector().record(L5PC.soma[0](0.5).NaTa_t._ref_ina)\n",
    "        ih = h.Vector().record(L5PC.soma[0](0.5).Ih._ref_ihcn)\n",
    "\n",
    "\n",
    "\n",
    "\n",
    "        current_som = h.IClamp(L5PC.soma[0](0.5))\n",
    "        current_som.delay = 500\n",
    "        current_som.dur = 5 \n",
    "        current_som.amp = 1.7\n",
    "        \n",
    "        current_som1 = h.IClamp(L5PC.soma[0](0.5))\n",
    "        current_som1.delay = 500 + i\n",
    "        current_som1.dur = 5 \n",
    "        current_som1.amp = 1.7\n",
    "        \n",
    "        current_som2 = h.IClamp(L5PC.soma[0](0.5))\n",
    "        current_som2.delay = 500 + 2*i\n",
    "        current_som2.dur = 5 \n",
    "        current_som2.amp = 1.7\n",
    "        \n",
    "        current_som3 = h.IClamp(L5PC.soma[0](0.5))\n",
    "        current_som3.delay = 500 + 3*i\n",
    "        current_som3.dur = 5 \n",
    "        current_som3.amp = 1.7\n",
    "\n",
    "\n",
    "        soma_cur = h.Vector().record(current_som._ref_i)\n",
    "\n",
    "        v_rest = -80.28\n",
    "        h.finitialize(v_rest*mV)\n",
    "        h.continuerun(800*ms)\n",
    "        \n",
    "\n",
    "        color = ['red','blue','green','purple']\n",
    "        tnormal = t - i*3\n",
    "        \n",
    "        #plt.plot(t, som_v, color[x], linewidth=2.3)\n",
    "        plt.plot(t, Ca, color ='red', linewidth=1)\n",
    "        plt.plot(t, skv, color = 'orange', linewidth=1)\n",
    "        plt.plot(t, ske2, color = 'yellow', linewidth=1)\n",
    "        plt.plot(t, ktst, green, linewidth=1)\n",
    "        plt.plot(t, kpst, blue, linewidth=1)\n",
    "        plt.plot(t, nap, purple, linewidth=1)\n",
    "        plt.plot(t, nat, pink, linewidth=1)\n",
    "        plt.plot(t, ih, black, linewidth=1)\n",
    "        plt.xlim([450, 700])\n",
    "        x = x+1\n",
    "\n",
    "    plt.show()\n",
    "\n",
    "\n",
    "Na_Flow()"
   ]
  }
 ],
 "metadata": {
  "kernelspec": {
   "display_name": "Python 3",
   "language": "python",
   "name": "python3"
  },
  "language_info": {
   "codemirror_mode": {
    "name": "ipython",
    "version": 3
   },
   "file_extension": ".py",
   "mimetype": "text/x-python",
   "name": "python",
   "nbconvert_exporter": "python",
   "pygments_lexer": "ipython3",
   "version": "3.8.5"
  }
 },
 "nbformat": 4,
 "nbformat_minor": 4
}
