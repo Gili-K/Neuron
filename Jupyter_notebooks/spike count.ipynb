{
 "cells": [
  {
   "cell_type": "code",
   "execution_count": 1,
   "metadata": {},
   "outputs": [
    {
     "name": "stdout",
     "output_type": "stream",
     "text": [
      "845.34678 \n",
      "845.34678 \n",
      "845.34678 \n"
     ]
    }
   ],
   "source": [
    "import os\n",
    "import sys\n",
    "import numpy as np\n",
    "import neuron\n",
    "from neuron import h\n",
    "from neuron.units import ms, mV\n",
    "from neuron import gui\n",
    "from matplotlib import pyplot as plt\n",
    "import csv\n",
    "from math import exp, log\n",
    "import scipy\n",
    "import seaborn as sns\n",
    "\n",
    "h.load_file(\"import3d.hoc\")\n",
    "morphology_file = \"morphologies/cell1.asc\"\n",
    "h.load_file(\"L5PCbiophysWhat.hoc\")\n",
    "h.load_file(\"L5PCtemplate_2.hoc\")\n",
    "L5PC = h.L5PCtemplate(morphology_file)\n",
    "h.celsius = 37"
   ]
  },
  {
   "cell_type": "code",
   "execution_count": null,
   "metadata": {},
   "outputs": [
    {
     "name": "stdout",
     "output_type": "stream",
     "text": [
      "-10 0\n"
     ]
    }
   ],
   "source": [
    "apic_secs = list(L5PC.all)\n",
    "# for sec in apic_secs:\n",
    "#     for seg in sec:\n",
    "#         try: seg.Ih.vshift = seg.Ih.vshift - 20\n",
    "#         #try: seg.Ca_HVA.gCa_HVAbar = seg.Ca_HVA.gCa_HVAbar*multHVA\n",
    "#         except AttributeError: continue   \n",
    "\n",
    "fig, ax = plt.subplots(figsize=(8, 6))\n",
    "g = 0\n",
    "low = []\n",
    "regular = []\n",
    "high = []\n",
    "higher = []\n",
    "highest = []\n",
    "multHVA = 0.1\n",
    "shift = -10\n",
    "listOfLists = [low, regular, high, higher, highest]\n",
    "listOfColors = ['red','green','orange','blue','purple']\n",
    "for x in listOfLists:\n",
    "    for sec in apic_secs:\n",
    "        for seg in sec:\n",
    "#             try: seg.Ih.vshift = seg.Ih.vshift + shift\n",
    "            try: seg.Ca_HVA.gCa_HVAbar = seg.Ca_HVA.gCa_HVAbar*multHVA\n",
    "            except AttributeError: continue   \n",
    "    for i in range (0,5):   \n",
    "        START_TIME = 25     # time to start the stimulus\n",
    "        END_TIME = 3000     # time to end the stimulus\n",
    "        TIME_PER_AMP = 5    # change amplitude every TIME_PER_AMP ms\n",
    "        MEAN_AMP = 0.2      # the mean amplitude\n",
    "        LAMBDA = 0.5        # the poisson mean\n",
    "        MEAN_AMP_2 = 0.1      # the mean amplitude\n",
    "        LAMBDA_2 = 3        # the poisson mean\n",
    "        times = np.arange(START_TIME, END_TIME, TIME_PER_AMP)\n",
    "        totime = END_TIME-START_TIME\n",
    "\n",
    "        random_amplitude = 1 / (np.random.poisson(LAMBDA, times.shape[0]) + 1) \\\n",
    "                           - 1 / (np.random.poisson(LAMBDA, times.shape[0]) + 1)\n",
    "        random_amplitude_2 = 1 / (np.random.poisson(LAMBDA_2, times.shape[0]) + 1) \\\n",
    "                           - 1 / (np.random.poisson(LAMBDA_2, times.shape[0]) + 1)\n",
    "        random_amplitude += MEAN_AMP\n",
    "        random_amplitude_2 += MEAN_AMP_2\n",
    "        clamps = []\n",
    "        clamps_records = []\n",
    "        clamps2 = []\n",
    "        clamps_records2 = []\n",
    "        for t in range(times.shape[0]):\n",
    "            stim = h.IClamp(L5PC.soma[0](0.5))\n",
    "            stim.delay = times[t]\n",
    "            stim.amp = random_amplitude[t]\n",
    "            stim.dur = TIME_PER_AMP\n",
    "            clamps.append(stim)\n",
    "            clamps_records.append(h.Vector().record(stim._ref_i))\n",
    "\n",
    "            stim2 = h.IClamp(L5PC.apic[36](0.9))\n",
    "            stim2.delay = times[t]\n",
    "            stim2.amp = random_amplitude_2[t]\n",
    "            stim2.dur = TIME_PER_AMP\n",
    "            clamps2.append(stim2)\n",
    "            clamps_records2.append(h.Vector().record(stim2._ref_i))\n",
    "\n",
    "        neuron_times = h.Vector().record(h._ref_t)\n",
    "        threshold = -20\n",
    "        som_v = h.Vector().record(L5PC.soma[0](0.5)._ref_v)\n",
    "        distal_v = h.Vector().record(L5PC.apic[36](0.9)._ref_v)\n",
    "        distal_ca = h.Vector().record(L5PC.apic[36](0.9).Ca_HVA._ref_ica)\n",
    "        count = 0\n",
    "        h.finitialize(-80*mV)\n",
    "        h.continuerun(END_TIME + 50)\n",
    "        stimulus_as_one_array = np.sum([np.array(rec) for rec in clamps_records], axis=0)\n",
    "        stimulus_as_one_array_2 = np.sum([np.array(rec) for rec in clamps_records2], axis=0)\n",
    "        sumi = stimulus_as_one_array + stimulus_as_one_array_2\n",
    "\n",
    "#         arr = np.array(som_v) > 0\n",
    "        arr = np.array(distal_ca) < - 0.01\n",
    "        second_arr = arr[:-1]\n",
    "        arr = arr[1:]\n",
    "        #return np.sum(np.logical_and(arr, np.logical_not(second_arr)))\n",
    "        count = np.sum(np.logical_and(arr, np.logical_not(second_arr)))\n",
    "        print(shift, count)\n",
    "        x.append(count)\n",
    "    for sec in apic_secs:\n",
    "        for seg in sec:\n",
    "#             try: seg.Ih.vshift = seg.Ih.vshift - shift\n",
    "            try: seg.Ca_HVA.gCa_HVAbar = seg.Ca_HVA.gCa_HVAbar/multHVA\n",
    "            except AttributeError: continue \n",
    "    multHVA = multHVA + 0.6\n",
    "    shift = shift + 10\n",
    "ax.violinplot(listOfLists)"
   ]
  }
 ],
 "metadata": {
  "kernelspec": {
   "display_name": "Python 3",
   "language": "python",
   "name": "python3"
  },
  "language_info": {
   "codemirror_mode": {
    "name": "ipython",
    "version": 3
   },
   "file_extension": ".py",
   "mimetype": "text/x-python",
   "name": "python",
   "nbconvert_exporter": "python",
   "pygments_lexer": "ipython3",
   "version": "3.8.5"
  }
 },
 "nbformat": 4,
 "nbformat_minor": 4
}
