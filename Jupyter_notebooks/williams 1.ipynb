{
 "cells": [
  {
   "cell_type": "code",
   "execution_count": 1,
   "metadata": {},
   "outputs": [
    {
     "name": "stdout",
     "output_type": "stream",
     "text": [
      "845.34678 \n",
      "845.34678 \n"
     ]
    },
    {
     "data": {
      "image/png": "[encoded data removed]",
      "text/plain": [
       "<Figure size 432x432 with 2 Axes>"
      ]
     },
     "metadata": {},
     "output_type": "display_data"
    },
    {
     "name": "stdout",
     "output_type": "stream",
     "text": [
      "\t-78.466752 \n",
      "\t-78.466752 \n"
     ]
    }
   ],
   "source": [
    "import os\n",
    "import sys\n",
    "import numpy as np\n",
    "import neuron\n",
    "from neuron import h\n",
    "from neuron.units import ms, mV\n",
    "from neuron import gui\n",
    "from matplotlib import pyplot as plt\n",
    "import csv\n",
    "from math import exp, log\n",
    "import scipy\n",
    "\n",
    "h.load_file(\"import3d.hoc\")\n",
    "morphology_file = \"morphologies/cell1.asc\"\n",
    "h.load_file(\"L5PCbiophys5c.hoc\")\n",
    "h.load_file(\"L5PCtemplate_2.hoc\")\n",
    "L5PC = h.L5PCtemplate(morphology_file)\n",
    "h.celsius = 37\n",
    "\n",
    "\n",
    "\n",
    "   \n",
    "plt.rcParams['figure.figsize'] = [6,6]      \n",
    "f, (ax0, ax01) = \\\n",
    "plt.subplots(2, gridspec_kw={'height_ratios': [12, 1]})\n",
    "\n",
    "for dend_syn_imax, soma_cur, top_ax, bot_ax in [(0, True, ax0, ax01)]:\n",
    "\n",
    "    t = h.Vector().record(h._ref_t)\n",
    "    som_v = h.Vector().record(L5PC.soma[0](0.5)._ref_v)\n",
    "    axon_v = h.Vector().record(L5PC.axon[0](0.5)._ref_v)\n",
    "    distal_v = h.Vector().record(L5PC.apic[36](0.9)._ref_v)\n",
    "    proximal_v = h.Vector().record(L5PC.apic[20](0.5)._ref_v)\n",
    "\n",
    "    current_epsp = h.epsp(L5PC.apic[36](0.9))\n",
    "    current_epsp.tau0 = 0.6\n",
    "    current_epsp.tau1 = 7\n",
    "    current_epsp.imax = dend_syn_imax\n",
    "    current_epsp.onset = 505\n",
    "\n",
    "    current_som = h.IClamp(L5PC.apic[36](0.9))\n",
    "    current_som.delay = 500\n",
    "    current_som.dur = 500 if soma_cur else 0\n",
    "    current_som.amp = 0.6\n",
    "\n",
    "    soma_cur = h.Vector().record(current_som._ref_i)\n",
    "    # ca_cur = h.Vector().record(L5PC.apic[36](0.9).Ca_HVA._ref_ica)\n",
    "    # k3_cur = h.Vector().record(L5PC.apic[36](0.9).SKv3_1._ref_ik)\n",
    "    # e2_cur = h.Vector().record(L5PC.apic[36](0.9).SK_E2._ref_ik)\n",
    "    # na_cur = h.Vector().record(L5PC.apic[36](0.9).NaTa_t._ref_ina)\n",
    "    # im_cur = h.Vector().record(L5PC.apic[36](0.9).Im._ref_ik)\n",
    "    # ih_cur = h.Vector().record(L5PC.apic[36](0.9).Ih._ref_ihcn)\n",
    "    cur_i = h.Vector().record(current_epsp._ref_i)\n",
    "\n",
    "    v_rest = -80.28\n",
    "\n",
    "    h.finitialize(v_rest*mV)\n",
    "    h.continuerun(1250*ms)\n",
    "\n",
    "    #top_ax.plot(t, axon_v, 'orange', linewidth=1.5, label='soma')\n",
    "    top_ax.plot(t, som_v, 'k', linewidth=1.5, label='soma')\n",
    "    top_ax.plot(t, distal_v, 'r', linewidth=1.5, label='distal dend')\n",
    "    #top_ax.plot(t, proximal_v, 'b', linewidth=1, label='proximal dend')\n",
    "    top_ax.set(ylim=(-85,60), xlim=(470,1050))\n",
    "    top_ax.get_xaxis().set_ticks([])\n",
    "    top_ax.get_yaxis().set_ticks([])\n",
    "    top_ax.spines['top'].set_visible(False)\n",
    "    top_ax.spines['right'].set_visible(False)\n",
    "    top_ax.spines['bottom'].set_visible(False)\n",
    "    top_ax.spines['left'].set_visible(False)\n",
    "    # top_ax.legend()\n",
    "\n",
    "    #bot_ax.plot(t, ca_cur, 'b', label='soma')\n",
    "    #bot_ax.plot(t, na_cur, 'k', label='soma')\n",
    "    #bot_ax.plot(t, ih_cur, 'r', label='soma')\n",
    "    #bot_ax.plot(t, im_cur, 'y', label='soma')\n",
    "    #bot_ax.plot(t, k3_cur, 'm', label='soma')\n",
    "    #bot_ax.plot(t, e2_cur, 'c', label='soma')\n",
    "    bot_ax.plot(t, soma_cur, 'r', label='soma')\n",
    "    bot_ax.set(xlim=(470,1050))\n",
    "    #top_ax.axhline(y=v_rest, color='k', linestyle=':', linewidth=1)\n",
    "    bot_ax.get_xaxis().set_ticks([])\n",
    "    bot_ax.get_yaxis().set_ticks([])\n",
    "    bot_ax.spines['top'].set_visible(False)\n",
    "    bot_ax.spines['right'].set_visible(False)\n",
    "    bot_ax.spines['bottom'].set_visible(False)\n",
    "    bot_ax.spines['left'].set_visible(False)\n",
    "    plt.subplots_adjust(wspace=0, hspace=0)\n",
    "\n",
    "\n",
    "plt.show()\n",
    "\n",
    "\n",
    "\n"
   ]
  },
  {
   "cell_type": "code",
   "execution_count": null,
   "metadata": {},
   "outputs": [],
   "source": []
  }
 ],
 "metadata": {
  "kernelspec": {
   "display_name": "Python 3",
   "language": "python",
   "name": "python3"
  },
  "language_info": {
   "codemirror_mode": {
    "name": "ipython",
    "version": 3
   },
   "file_extension": ".py",
   "mimetype": "text/x-python",
   "name": "python",
   "nbconvert_exporter": "python",
   "pygments_lexer": "ipython3",
   "version": "3.8.5"
  }
 },
 "nbformat": 4,
 "nbformat_minor": 4
}
